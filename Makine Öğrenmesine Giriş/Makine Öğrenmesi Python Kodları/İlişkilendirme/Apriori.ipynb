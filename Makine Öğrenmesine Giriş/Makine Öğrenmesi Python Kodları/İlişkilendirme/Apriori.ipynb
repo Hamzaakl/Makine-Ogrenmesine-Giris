{
  "nbformat": 4,
  "nbformat_minor": 0,
  "metadata": {
    "colab": {
      "provenance": []
    },
    "kernelspec": {
      "name": "python3",
      "display_name": "Python 3"
    },
    "language_info": {
      "name": "python"
    }
  },
  "cells": [
    {
      "cell_type": "code",
      "execution_count": 1,
      "metadata": {
        "colab": {
          "base_uri": "https://localhost:8080/"
        },
        "id": "gQRiu8xsUUcL",
        "outputId": "2e7eba7c-182e-4bd5-ba4f-334d29d09eaa"
      },
      "outputs": [
        {
          "output_type": "stream",
          "name": "stdout",
          "text": [
            "   support      itemsets\n",
            "0      0.8       (ekmek)\n",
            "1      0.8         (süt)\n",
            "2      0.6         (çay)\n",
            "3      0.6  (süt, ekmek)\n",
            "  antecedents consequents  antecedent support  consequent support  support  \\\n",
            "0       (süt)     (ekmek)                 0.8                 0.8      0.6   \n",
            "1     (ekmek)       (süt)                 0.8                 0.8      0.6   \n",
            "\n",
            "   confidence    lift  leverage  conviction  zhangs_metric  \n",
            "0        0.75  0.9375     -0.04         0.8          -0.25  \n",
            "1        0.75  0.9375     -0.04         0.8          -0.25  \n"
          ]
        }
      ],
      "source": [
        "import pandas as pd\n",
        "from mlxtend.preprocessing import TransactionEncoder\n",
        "from mlxtend.frequent_patterns import apriori, association_rules\n",
        "\n",
        "# Örnek işlemler listesi\n",
        "transactions = [\n",
        "    ['süt', 'ekmek', 'yumurta'],\n",
        "    ['süt', 'ekmek'],\n",
        "    ['ekmek', 'çay'],\n",
        "    ['süt', 'çay'],\n",
        "    ['süt', 'ekmek', 'çay', 'bisküvi']\n",
        "]\n",
        "\n",
        "# İşlemleri kodlayalım\n",
        "te = TransactionEncoder()\n",
        "te_ary = te.fit(transactions).transform(transactions)\n",
        "df = pd.DataFrame(te_ary, columns=te.columns_)\n",
        "\n",
        "# Sık görülen öğe kümelerini bulalım\n",
        "frequent_itemsets = apriori(df, min_support=0.6, use_colnames=True)\n",
        "\n",
        "# Birliktelik kurallarını oluşturalım\n",
        "rules = association_rules(frequent_itemsets, metric=\"confidence\", min_threshold=0.7)\n",
        "\n",
        "# Sonuçları gösterelim\n",
        "print(frequent_itemsets)\n",
        "print(rules)\n"
      ]
    }
  ]
}